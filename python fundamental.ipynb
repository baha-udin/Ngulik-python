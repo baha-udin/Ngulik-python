{
 "metadata": {
  "language_info": {
   "codemirror_mode": {
    "name": "ipython",
    "version": 3
   },
   "file_extension": ".py",
   "mimetype": "text/x-python",
   "name": "python",
   "nbconvert_exporter": "python",
   "pygments_lexer": "ipython3",
   "version": "3.8.6-final"
  },
  "orig_nbformat": 2,
  "kernelspec": {
   "name": "python_defaultSpec_1605274328630",
   "display_name": "Python 3.8.6 64-bit"
  }
 },
 "nbformat": 4,
 "nbformat_minor": 2,
 "cells": [
  {
   "cell_type": "code",
   "execution_count": 3,
   "metadata": {
    "tags": []
   },
   "outputs": [
    {
     "output_type": "stream",
     "name": "stdout",
     "text": "kelas bahasa\n"
    }
   ],
   "source": [
    "#Print\n",
    "print('kelas bahasa')"
   ]
  },
  {
   "cell_type": "code",
   "execution_count": 4,
   "metadata": {},
   "outputs": [
    {
     "output_type": "execute_result",
     "data": {
      "text/plain": "(34, 32)"
     },
     "metadata": {},
     "execution_count": 4
    }
   ],
   "source": [
    "#Variabel\n",
    "a = 34;\n",
    "b = 32\n",
    "a, b"
   ]
  },
  {
   "cell_type": "code",
   "execution_count": 6,
   "metadata": {},
   "outputs": [
    {
     "output_type": "execute_result",
     "data": {
      "text/plain": "2"
     },
     "metadata": {},
     "execution_count": 6
    }
   ],
   "source": [
    "#List\n",
    "a = [1, 2, 4, 5, 6]\n",
    "a\n",
    "a[0]\n",
    "a[1]"
   ]
  },
  {
   "cell_type": "code",
   "execution_count": 8,
   "metadata": {},
   "outputs": [
    {
     "output_type": "execute_result",
     "data": {
      "text/plain": "[1, 2, 4, 5, 6, 3, 3]"
     },
     "metadata": {},
     "execution_count": 8
    }
   ],
   "source": [
    "#tambah data\n",
    "a.append(3)\n",
    "a"
   ]
  },
  {
   "cell_type": "code",
   "execution_count": 9,
   "metadata": {},
   "outputs": [],
   "source": [
    "a.sort()"
   ]
  },
  {
   "cell_type": "code",
   "execution_count": 10,
   "metadata": {},
   "outputs": [
    {
     "output_type": "execute_result",
     "data": {
      "text/plain": "[1, 2, 3, 3, 4, 5, 6]"
     },
     "metadata": {},
     "execution_count": 10
    }
   ],
   "source": [
    "a"
   ]
  },
  {
   "cell_type": "code",
   "execution_count": 11,
   "metadata": {},
   "outputs": [
    {
     "output_type": "execute_result",
     "data": {
      "text/plain": "[2, 3, 5]"
     },
     "metadata": {},
     "execution_count": 11
    }
   ],
   "source": [
    "a[1:6:2]"
   ]
  },
  {
   "cell_type": "code",
   "execution_count": 12,
   "metadata": {},
   "outputs": [
    {
     "output_type": "execute_result",
     "data": {
      "text/plain": "[6, 5, 4, 3, 3, 2, 1]"
     },
     "metadata": {},
     "execution_count": 12
    }
   ],
   "source": [
    "a[::-1]"
   ]
  },
  {
   "cell_type": "code",
   "execution_count": 16,
   "metadata": {},
   "outputs": [
    {
     "output_type": "execute_result",
     "data": {
      "text/plain": "dict_values(['kuda', 'mangga', 'kenari'])"
     },
     "metadata": {},
     "execution_count": 16
    }
   ],
   "source": [
    "#dictionary\n",
    "Jenis = {\n",
    "    \"hewan\": \"kuda\",\n",
    "    \"buah\": \"mangga\",\n",
    "    \"burung\": \"kenari\"\n",
    "}\n",
    "\n",
    "Jenis.keys()\n",
    "Jenis.values()"
   ]
  },
  {
   "cell_type": "code",
   "execution_count": 17,
   "metadata": {},
   "outputs": [
    {
     "output_type": "execute_result",
     "data": {
      "text/plain": "'kenari'"
     },
     "metadata": {},
     "execution_count": 17
    }
   ],
   "source": [
    "Jenis['burung']"
   ]
  },
  {
   "cell_type": "code",
   "execution_count": 18,
   "metadata": {},
   "outputs": [
    {
     "output_type": "execute_result",
     "data": {
      "text/plain": "1"
     },
     "metadata": {},
     "execution_count": 18
    }
   ],
   "source": [
    "#Nulis fungsi\n",
    "def hasilBagi(a, b):\n",
    "    return a % b\n",
    "\n",
    "hasilBagi(10000, 3)"
   ]
  },
  {
   "cell_type": "code",
   "execution_count": 19,
   "metadata": {},
   "outputs": [
    {
     "output_type": "execute_result",
     "data": {
      "text/plain": "'data berhasil di buat'"
     },
     "metadata": {},
     "execution_count": 19
    }
   ],
   "source": [
    "def inputData(a):\n",
    "    return a\n",
    "inputData('data berhasil di buat')"
   ]
  },
  {
   "cell_type": "code",
   "execution_count": 24,
   "metadata": {
    "tags": []
   },
   "outputs": [
    {
     "output_type": "stream",
     "name": "stdout",
     "text": "oke juga nilai lu\n"
    }
   ],
   "source": [
    "#condition\n",
    "angga = 90\n",
    "\n",
    "if angga < 70:\n",
    "    print('Remidi bro')\n",
    "elif angga > 70 & angga < 80:\n",
    "    print('oke juga nilai lu')\n",
    "elif angga > 80:\n",
    "    print('masuk pak eko')\n",
    "else:\n",
    "    print('data tidak ditemukan')"
   ]
  },
  {
   "cell_type": "code",
   "execution_count": 25,
   "metadata": {
    "tags": []
   },
   "outputs": [
    {
     "output_type": "stream",
     "name": "stdout",
     "text": "1\n2\n3\n4\n5\n6\n7\n8\n9\n"
    }
   ],
   "source": [
    "#iterasi\n",
    "bilangan = [1, 2, 3, 4, 5, 6, 7, 8, 9]\n",
    "for angka in bilangan:\n",
    "    print(angka)"
   ]
  },
  {
   "cell_type": "code",
   "execution_count": 32,
   "metadata": {
    "tags": []
   },
   "outputs": [
    {
     "output_type": "stream",
     "name": "stdout",
     "text": "70\n80\n90\n75\n85\n95\n"
    }
   ],
   "source": [
    "for angka in (70, 80, 90, 75, 85, 95):\n",
    "    print(angka)"
   ]
  },
  {
   "cell_type": "code",
   "execution_count": 35,
   "metadata": {
    "tags": []
   },
   "outputs": [
    {
     "output_type": "stream",
     "name": "stdout",
     "text": "2\n3\n4\n5\n6\n"
    }
   ],
   "source": [
    "for angka in range(2, 7):\n",
    "    print(angka)"
   ]
  },
  {
   "cell_type": "code",
   "execution_count": 38,
   "metadata": {
    "tags": []
   },
   "outputs": [
    {
     "output_type": "stream",
     "name": "stdout",
     "text": "hewan\nbuah\nburung\n"
    }
   ],
   "source": [
    "for kucing in Jenis:\n",
    "    print(kucing) "
   ]
  },
  {
   "cell_type": "code",
   "execution_count": 43,
   "metadata": {
    "tags": []
   },
   "outputs": [
    {
     "output_type": "stream",
     "name": "stdout",
     "text": "nama dia sisil\nnama dia Ridwan\nnama dia putri\nnama dia Rafly\nnama dia Lina\nnama dia Gilang\n"
    }
   ],
   "source": [
    "listSiswa = [\"sisil\", \"Ridwan\", \"putri\", \"Rafly\", \"Lina\", \"Gilang\"]\n",
    "for siswa in listSiswa:\n",
    "    print(\"nama dia \" + siswa)"
   ]
  },
  {
   "cell_type": "code",
   "execution_count": 44,
   "metadata": {},
   "outputs": [
    {
     "output_type": "error",
     "ename": "SyntaxError",
     "evalue": "'return' outside function (<ipython-input-44-0d09de1c2e07>, line 3)",
     "traceback": [
      "\u001b[1;36m  File \u001b[1;32m\"<ipython-input-44-0d09de1c2e07>\"\u001b[1;36m, line \u001b[1;32m3\u001b[0m\n\u001b[1;33m    return nilai\u001b[0m\n\u001b[1;37m    ^\u001b[0m\n\u001b[1;31mSyntaxError\u001b[0m\u001b[1;31m:\u001b[0m 'return' outside function\n"
     ]
    }
   ],
   "source": [
    "list = [ ]\n",
    "for nilai in list:\n",
    "    return nilai\n",
    "nilai(21, 22)"
   ]
  },
  {
   "cell_type": "code",
   "execution_count": 47,
   "metadata": {
    "tags": []
   },
   "outputs": [
    {
     "output_type": "stream",
     "name": "stdout",
     "text": "10\n11\n12\n13\n14\n15\nangka sampai 15 saja\nangka sampai 15 saja\nangka sampai 15 saja\nangka sampai 15 saja\n"
    }
   ],
   "source": [
    "for angka in range(10, 20):\n",
    "    if angka > 15:\n",
    "        print('angka sampai 15 saja')\n",
    "    else:\n",
    "        print(angka)"
   ]
  },
  {
   "cell_type": "code",
   "execution_count": 50,
   "metadata": {
    "tags": []
   },
   "outputs": [
    {
     "output_type": "stream",
     "name": "stdout",
     "text": "1\n2\n3\n4\n5\n6\n7\n8\n9\n10\n11\n12\n13\n14\n15\nangka melampaui batas\nangka melampaui batas\nangka melampaui batas\nangka melampaui batas\n"
    }
   ],
   "source": [
    "for angkaGanjil in range(1, 20):\n",
    "    if angkaGanjil > 15:\n",
    "        print('angka melampaui batas')\n",
    "    else:\n",
    "        print(angkaGanjil)"
   ]
  },
  {
   "cell_type": "code",
   "execution_count": 51,
   "metadata": {},
   "outputs": [],
   "source": [
    "#Buat pangkat\n",
    "kuadrat = []\n",
    "for i in range(0, 5):\n",
    "    kuadrat.append(i**2)"
   ]
  },
  {
   "cell_type": "code",
   "execution_count": 52,
   "metadata": {},
   "outputs": [
    {
     "output_type": "execute_result",
     "data": {
      "text/plain": "[0, 1, 4, 9, 16]"
     },
     "metadata": {},
     "execution_count": 52
    }
   ],
   "source": [
    "kuadrat"
   ]
  },
  {
   "cell_type": "code",
   "execution_count": 62,
   "metadata": {},
   "outputs": [],
   "source": [
    "prima = []\n",
    "for i in range(0, 4):\n",
    "    prima.append(i**2)"
   ]
  },
  {
   "cell_type": "code",
   "execution_count": 63,
   "metadata": {},
   "outputs": [
    {
     "output_type": "execute_result",
     "data": {
      "text/plain": "[0, 1, 4, 9]"
     },
     "metadata": {},
     "execution_count": 63
    }
   ],
   "source": [
    "prima"
   ]
  },
  {
   "cell_type": "code",
   "execution_count": 65,
   "metadata": {},
   "outputs": [
    {
     "output_type": "execute_result",
     "data": {
      "text/plain": "[0, 1, 4, 9, 16]"
     },
     "metadata": {},
     "execution_count": 65
    }
   ],
   "source": [
    "angka = [i**2 for i in range(0, 5)]\n",
    "angka"
   ]
  },
  {
   "cell_type": "code",
   "execution_count": 89,
   "metadata": {
    "tags": []
   },
   "outputs": [
    {
     "output_type": "stream",
     "name": "stdout",
     "text": "Bilangan kelipatan dua antara 10 dan 50 :\n15\n16\n17\n18\n19\n20\n21\n22\n23\n24\n25\n26\n27\n28\n29\n30\n31\n32\n33\n34\n35\n36\n37\n38\n39\n40\n41\n42\n43\n44\n45\n46\n47\n48\n49\n50\n51\n52\n53\n54\n"
    }
   ],
   "source": [
    "rentangRendah = 10\n",
    "rentangTinggi = 50\n",
    "print('Bilangan kelipatan dua antara', rentangRendah, 'dan', rentangTinggi, ':')\n",
    "for angka in range(rentangRendah, rentangTinggi):\n",
    "    if angka > 5:\n",
    "        print(angka + 5)\n",
    "    else: \n",
    "        print('hasil tidak ditemukan')"
   ]
  },
  {
   "cell_type": "code",
   "execution_count": 96,
   "metadata": {},
   "outputs": [
    {
     "output_type": "execute_result",
     "data": {
      "text/plain": "'1.19.4'"
     },
     "metadata": {},
     "execution_count": 96
    }
   ],
   "source": [
    "#Operasi matematik\n",
    "#numpy disingkat jadi np\n",
    "import numpy as np\n",
    "numpy.version.version"
   ]
  },
  {
   "cell_type": "code",
   "execution_count": 99,
   "metadata": {},
   "outputs": [
    {
     "output_type": "execute_result",
     "data": {
      "text/plain": "array([3, 6, 9])"
     },
     "metadata": {},
     "execution_count": 99
    }
   ],
   "source": [
    "#numpy untuk operasi matematik\n",
    "#Array untuk ngubah list menjadi Vector\n",
    "vectorA = np.array([1, 2, 3])\n",
    "vectorA\n",
    "#bisa untuk operasi matematika\n",
    "vectorA * 3"
   ]
  },
  {
   "cell_type": "code",
   "execution_count": 100,
   "metadata": {},
   "outputs": [
    {
     "output_type": "execute_result",
     "data": {
      "text/plain": "6"
     },
     "metadata": {},
     "execution_count": 100
    }
   ],
   "source": [
    "#hitung penjumlahan dengan numpy\n",
    "np.sum(vectorA)"
   ]
  },
  {
   "cell_type": "code",
   "execution_count": 101,
   "metadata": {},
   "outputs": [
    {
     "output_type": "execute_result",
     "data": {
      "text/plain": "2.0"
     },
     "metadata": {},
     "execution_count": 101
    }
   ],
   "source": [
    "#hitung mean dengan numpy\n",
    "np.mean(vectorA)"
   ]
  },
  {
   "cell_type": "code",
   "execution_count": 103,
   "metadata": {},
   "outputs": [
    {
     "output_type": "execute_result",
     "data": {
      "text/plain": "0.816496580927726"
     },
     "metadata": {},
     "execution_count": 103
    }
   ],
   "source": [
    "#hitung standar deviasi dengan python\n",
    "np.std(vectorA)\n",
    "#Standar deviasi adalah nilai statistik yang digunakan untuk menentukan seberapa dekat elemen data-data yang ada dengan nilai rata-rata (mean) dari suatu sampel dan bagaimana data-data tersebar di dalam sampel"
   ]
  },
  {
   "cell_type": "code",
   "execution_count": 105,
   "metadata": {},
   "outputs": [
    {
     "output_type": "execute_result",
     "data": {
      "text/plain": "array([0.3705935 , 0.48890643, 0.08975313, 0.69694067, 0.55135151,\n       0.69498939, 0.2870638 , 0.00453092, 0.52282573, 0.6296267 ])"
     },
     "metadata": {},
     "execution_count": 105
    }
   ],
   "source": [
    "#bikin random pake numpy\n",
    "np.random.rand(10)"
   ]
  },
  {
   "cell_type": "code",
   "execution_count": 108,
   "metadata": {},
   "outputs": [
    {
     "output_type": "execute_result",
     "data": {
      "text/plain": "array([0.37454012, 0.95071431, 0.73199394])"
     },
     "metadata": {},
     "execution_count": 108
    }
   ],
   "source": [
    "#control randomness\n",
    "state = np.random.RandomState(42)\n",
    "state.rand(3)"
   ]
  },
  {
   "cell_type": "code",
   "execution_count": 3,
   "metadata": {
    "tags": []
   },
   "outputs": [
    {
     "output_type": "stream",
     "name": "stdout",
     "text": "[1, 4, 9, 16, 25]\n"
    }
   ],
   "source": [
    "#Fungsi Map\n",
    "def hitung_kuadrat(n):\n",
    "    return n*n\n",
    "bilangan = [1,2,3,4,5]\n",
    "hasil = map(hitung_kuadrat, bilangan)\n",
    "#print(hasil)\n",
    "print(list(hasil))"
   ]
  },
  {
   "cell_type": "code",
   "execution_count": 4,
   "metadata": {
    "tags": []
   },
   "outputs": [
    {
     "output_type": "stream",
     "name": "stdout",
     "text": "[0, 0, 0, 0, 0]\n"
    }
   ],
   "source": [
    "def hasil_bagi(n):\n",
    "    return n%n\n",
    "bilangan = [25, 20, 15, 10, 7]\n",
    "hasil = map(hasil_bagi, bilangan)\n",
    "print(list(hasil))"
   ]
  },
  {
   "cell_type": "code",
   "execution_count": 5,
   "metadata": {
    "tags": []
   },
   "outputs": [
    {
     "output_type": "stream",
     "name": "stdout",
     "text": "[20, 40, 60, 80, 100]\n"
    }
   ],
   "source": [
    "def perkalian(n):\n",
    "    return n * 2\n",
    "angka = [ 10, 20, 30, 40, 50]\n",
    "hasil_kali = map(perkalian, angka)\n",
    "print(list(hasil_kali))"
   ]
  },
  {
   "cell_type": "code",
   "execution_count": 7,
   "metadata": {
    "tags": []
   },
   "outputs": [
    {
     "output_type": "stream",
     "name": "stdout",
     "text": "[100, 400, 900, 1600, 2500]\n"
    }
   ],
   "source": [
    "def perkalian3(n):\n",
    "    return n * n\n",
    "angka = [ 10, 20, 30, 40, 50]\n",
    "hasil_perkalian = map(perkalian3, angka)\n",
    "print(list(hasil_perkalian))"
   ]
  },
  {
   "cell_type": "code",
   "execution_count": 9,
   "metadata": {
    "tags": []
   },
   "outputs": [
    {
     "output_type": "stream",
     "name": "stdout",
     "text": "Huruf vocal yang tersaring adalah: \na\ne\ni\no\n"
    }
   ],
   "source": [
    "#fungsi Filter\n",
    "alfabet = ['a', 'b', 'c', 'd', 'e', 'i', 'k', 'o']\n",
    "#fungsi penyaring huruf vocal\n",
    "def filter_vocal(alfabet):\n",
    "    vocal = ['a', 'e', 'u', 'i', 'o']\n",
    "    if alfabet in vocal:\n",
    "        return True\n",
    "    else:\n",
    "        return False\n",
    "vocal_terfilter = filter(filter_vocal, alfabet)\n",
    "print('Huruf vocal yang tersaring adalah: ')\n",
    "for vocal in vocal_terfilter:\n",
    "    print(vocal)"
   ]
  },
  {
   "cell_type": "code",
   "execution_count": 10,
   "metadata": {
    "tags": []
   },
   "outputs": [
    {
     "output_type": "stream",
     "name": "stdout",
     "text": "Huruf alfabet yng ada di data adalah: \na\ne\ni\no\n"
    }
   ],
   "source": [
    "data_awal= ['a', 'b', 'c', 'd', 'e', 'f', 'h', 'j', 'i']\n",
    "#bikin fungsi penyaring huruf\n",
    "def filter_huruf(alfabet):\n",
    "    vocal = ['a', 'e', 'u', 'o', 'i']\n",
    "    if alfabet in vocal:\n",
    "        return True\n",
    "    else:\n",
    "        return False\n",
    "vocal_terfilter = filter(filter_huruf, alfabet)\n",
    "print('Huruf alfabet yng ada di data adalah: ')\n",
    "for vocal in vocal_terfilter:\n",
    "    print(vocal)"
   ]
  },
  {
   "cell_type": "code",
   "execution_count": null,
   "metadata": {},
   "outputs": [],
   "source": []
  }
 ]
}